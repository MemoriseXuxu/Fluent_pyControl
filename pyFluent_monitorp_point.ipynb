{
 "cells": [
  {
   "attachments": {},
   "cell_type": "markdown",
   "metadata": {},
   "source": [
    "# 这个库只能用于ANSYS版本高于2022R2\n",
    "# 首先引入pyFluent库，然后更改工作路径到算例路径\n",
    "# launch_fluent -- 指定了Fluent版本号，计算精度，计算核数，工作模式和GUI"
   ]
  },
  {
   "cell_type": "code",
   "execution_count": null,
   "metadata": {},
   "outputs": [],
   "source": [
    "import ansys.fluent.core as pyfluent\n",
    "from ansys.fluent.core import examples\n",
    "import os\n",
    "os.chdir(r\"C:\\Users\\XU\\Desktop\\test\")\n",
    "solver = pyfluent.launch_fluent(product_version=\"22.2\",precision=\"double\", processor_count=16, mode=\"solver\",show_gui=True)"
   ]
  },
  {
   "cell_type": "code",
   "execution_count": null,
   "metadata": {},
   "outputs": [],
   "source": [
    "solver.tui.define.units(\"length\", \"mm\")\n",
    "# solver.tui.surface.point_surface(\"a2\",\"0\",\"200\",\"-28\")"
   ]
  },
  {
   "cell_type": "code",
   "execution_count": 9,
   "metadata": {},
   "outputs": [
    {
     "name": "stdout",
     "output_type": "stream",
     "text": [
      "/surface> \n",
      "Writing to XU:\"C:/Users/XU/Desktop/test/Steady_56.11_0.1206_point.cas.h5\" in NODE0 mode and compression level 1 ...\n",
      "     8085408 cells,     5 zones ...\n",
      "    21107452 faces,    35 zones ...\n",
      "     5336330 nodes,     1 zone  ...\n",
      "  Done.\n",
      "\n",
      "  Writing NCI Node Coordinates ...\n",
      "  Done.\n",
      "Done.\n",
      "\n",
      "Writing to XU:\"C:/Users/XU/Desktop/test/Steady_56.11_0.1206_point.dat.h5\" in NODE0 mode and compression level 1 ...\n",
      "  Writing results.\n",
      "Done.\n",
      "Name                 : flow-time\n",
      "Report type          : flow-time\n",
      "\n",
      "            p-outlet\n",
      " -------------------\n",
      "           Mass-Weighted Average                [Pa]\n",
      "-------------------------------- -------------------\n",
      "                          outlet            407974.2\n",
      "\n",
      " yangcheng-transient\n",
      " -------------------\n",
      "                      Expression                [Pa]\n",
      "-------------------------------- -------------------\n",
      "             yangcheng-transient           33.193603\n",
      "\n",
      "\n",
      "Updating solution at time levels N and N-1.\n",
      " done.\n",
      "\n",
      "  iter  continuity  x-velocity  y-velocity  z-velocity     time/iter\n",
      " 121683  5.0291e-02  1.7118e-06  1.6301e-06  1.5634e-06  0:00:00  100\n",
      " 121684  7.5779e-01  2.5429e-04  2.5684e-04  2.6376e-04  0:11:33   99\n",
      "Done.\n",
      "\n",
      "\n",
      "Updating solution at time levels N and N-1.\n",
      " done.\n",
      "\n",
      "  iter  continuity  x-velocity  y-velocity  z-velocity     time/iter\n",
      " 121684  7.5779e-01  2.5429e-04  2.5684e-04  2.6376e-04  0:00:07    1\n",
      " 121685  1.0362e+00  2.2169e-04  2.2381e-04  2.2962e-04  0:00:00    0\n",
      "Writing \"th_001083.cgns\"...\n",
      "Done.\n",
      "\n",
      " Interrupting at the end of timestep.\n",
      "Interrupting client...\n",
      "Done.\n",
      "Shutting down Server...\n"
     ]
    }
   ],
   "source": [
    "solver.tui.surface.point_surface(\"bld_c1_0_1\",\"rotorr\",\"17.1\",\"66.37\",\"0\")\n",
    "solver.tui.surface.point_surface(\"bld_c1_0_2\",\"rotorr\",\"66.03\",\"18.37\",\"0\")\n",
    "solver.tui.surface.point_surface(\"bld_c1_0_3\",\"rotorr\",\"48.93\",\"-48\",\"0\")\n",
    "solver.tui.surface.point_surface(\"bld_c1_0_4\",\"rotorr\",\"-17.1\",\"-66.37\",\"0\")\n",
    "solver.tui.surface.point_surface(\"bld_c1_0_5\",\"rotorr\",\"-66.03\",\"-18.37\",\"0\")\n",
    "solver.tui.surface.point_surface(\"bld_c1_0_6\",\"rotorr\",\"-48.93\",\"48\",\"0\")\n",
    "solver.tui.surface.point_surface(\"bld_c2_0_1\",\"rotorr\",\"55.23\",\"82.71\",\"0\")\n",
    "solver.tui.surface.point_surface(\"bld_c2_0_2\",\"rotorr\",\"99.24\",\"-6.48\",\"0\")\n",
    "solver.tui.surface.point_surface(\"bld_c2_0_3\",\"rotorr\",\"44.01\",\"-89.49\",\"0\")\n",
    "solver.tui.surface.point_surface(\"bld_c2_0_4\",\"rotorr\",\"-55.23\",\"-82.71\",\"0\")\n",
    "solver.tui.surface.point_surface(\"bld_c2_0_5\",\"rotorr\",\"-99.24\",\"6.48\",\"0\")\n",
    "solver.tui.surface.point_surface(\"bld_c2_0_6\",\"rotorr\",\"-44.01\",\"89.49\",\"0\")\n",
    "solver.tui.surface.point_surface(\"bld_c3_0_1\",\"rotorr\",\"96.97\",\"80.18\",\"0\")\n",
    "solver.tui.surface.point_surface(\"bld_c3_0_2\",\"rotorr\",\"117.77\",\"-43.63\",\"0\")\n",
    "solver.tui.surface.point_surface(\"bld_c3_0_3\",\"rotorr\",\"21.1\",\"-123.81\",\"0\")\n",
    "solver.tui.surface.point_surface(\"bld_c3_0_4\",\"rotorr\",\"-96.97\",\"-80.18\",\"0\")\n",
    "solver.tui.surface.point_surface(\"bld_c3_0_5\",\"rotorr\",\"-117.77\",\"43.63\",\"0\")\n",
    "solver.tui.surface.point_surface(\"bld_c3_0_6\",\"rotorr\",\"-21.1\",\"123.81\",\"0\")\n",
    "solver.tui.surface.point_surface(\"bld_c4_0_1\",\"rotorr\",\"143.63\",\"45.98\",\"0\")\n",
    "solver.tui.surface.point_surface(\"bld_c4_0_2\",\"rotorr\",\"111.63\",\"-101.4\",\"0\")\n",
    "solver.tui.surface.point_surface(\"bld_c4_0_3\",\"rotorr\",\"-32\",\"-147.38\",\"0\")\n",
    "solver.tui.surface.point_surface(\"bld_c4_0_4\",\"rotorr\",\"-143.63\",\"-45.98\",\"0\")\n",
    "solver.tui.surface.point_surface(\"bld_c4_0_5\",\"rotorr\",\"-111.63\",\"101.4\",\"0\")\n",
    "solver.tui.surface.point_surface(\"bld_c4_0_6\",\"rotorr\",\"32\",\"147.38\",\"0\")\n",
    "solver.tui.surface.point_surface(\"bld_c5_0_1\",\"rotorr\",\"165.18\",\"16.85\",\"0\")\n",
    "solver.tui.surface.point_surface(\"bld_c5_0_2\",\"rotorr\",\"97.18\",\"-134.63\",\"0\")\n",
    "solver.tui.surface.point_surface(\"bld_c5_0_3\",\"rotorr\",\"-68\",\"-151.47\",\"0\")\n",
    "solver.tui.surface.point_surface(\"bld_c5_0_4\",\"rotorr\",\"-165.18\",\"-16.85\",\"0\")\n",
    "solver.tui.surface.point_surface(\"bld_c5_0_5\",\"rotorr\",\"-97.18\",\"134.63\",\"0\")\n",
    "solver.tui.surface.point_surface(\"bld_c5_0_6\",\"rotorr\",\"68\",\"151.47\",\"0\")\n"
   ]
  },
  {
   "cell_type": "code",
   "execution_count": null,
   "metadata": {},
   "outputs": [],
   "source": [
    "# solver.tui.mesh.quality()\n",
    "# solver.tui.exit"
   ]
  }
 ],
 "metadata": {
  "kernelspec": {
   "display_name": "Python 3",
   "language": "python",
   "name": "python3"
  },
  "language_info": {
   "codemirror_mode": {
    "name": "ipython",
    "version": 3
   },
   "file_extension": ".py",
   "mimetype": "text/x-python",
   "name": "python",
   "nbconvert_exporter": "python",
   "pygments_lexer": "ipython3",
   "version": "3.11.1"
  },
  "orig_nbformat": 4,
  "vscode": {
   "interpreter": {
    "hash": "f63006ff1f591237aad545bc505f19f43905f8b430cafc89bcc5a8b0f07dc046"
   }
  }
 },
 "nbformat": 4,
 "nbformat_minor": 2
}
